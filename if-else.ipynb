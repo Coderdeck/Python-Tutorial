{
 "cells": [
  {
   "cell_type": "markdown",
   "source": [
    "# Conditions statements in python\n",
    "1. Equals a== b\n",
    "2. Not Equals : a != b\n",
    "3. Less than : a < b\n",
    "4. Greater than : 1 > -2\n",
    "5. Greater than or equal to : a >= b\n",
    "6. Lesser than or equal to : a < = b"
   ],
   "metadata": {}
  },
  {
   "cell_type": "markdown",
   "source": [
    "# IF Statement\n",
    "## Basic if-else examples"
   ],
   "metadata": {}
  },
  {
   "cell_type": "code",
   "execution_count": 1,
   "source": [
    "a = 20\n",
    "if a < 0:\n",
    "    print (\"Number is negative\")\n",
    "else:\n",
    "    print(\"Number is positive\")"
   ],
   "outputs": [
    {
     "output_type": "stream",
     "name": "stdout",
     "text": [
      "Number is positive\n"
     ]
    }
   ],
   "metadata": {}
  },
  {
   "cell_type": "code",
   "execution_count": 2,
   "source": [
    "a = 20\n",
    "b = 32\n",
    "if a < b:\n",
    "    print(\"B is greater\")\n",
    "else:\n",
    "    print(\"A is greater\")"
   ],
   "outputs": [
    {
     "output_type": "stream",
     "name": "stdout",
     "text": [
      "B is greater\n"
     ]
    }
   ],
   "metadata": {}
  },
  {
   "cell_type": "markdown",
   "source": [
    "## Nested IF Statements and multiple conditions"
   ],
   "metadata": {}
  },
  {
   "cell_type": "code",
   "execution_count": 4,
   "source": [
    "a = 20\n",
    "b = 32\n",
    "c = 34\n",
    "if (a > b) and (a > c):\n",
    "    print(\"A is big\")\n",
    "elif (b >a ) and ( b > c):\n",
    "    print(\"B is big\")\n",
    "else:\n",
    "    print(\"C is big\")"
   ],
   "outputs": [
    {
     "output_type": "stream",
     "name": "stdout",
     "text": [
      "C is big\n"
     ]
    }
   ],
   "metadata": {}
  },
  {
   "cell_type": "markdown",
   "source": [
    "## Using OR Condition"
   ],
   "metadata": {}
  },
  {
   "cell_type": "code",
   "execution_count": 5,
   "source": [
    "a = 5\n",
    "b = -2\n",
    "if (a >0) or b>0:\n",
    "    print(\"Atleast one number is positive\")"
   ],
   "outputs": [
    {
     "output_type": "stream",
     "name": "stdout",
     "text": [
      "Atleast one number is positive\n"
     ]
    }
   ],
   "metadata": {}
  },
  {
   "cell_type": "markdown",
   "source": [
    "## Shorthand IF statement"
   ],
   "metadata": {}
  },
  {
   "cell_type": "code",
   "execution_count": 7,
   "source": [
    "a = 30\n",
    "b = 32\n",
    "if a <b: print(\"a is greater than b\")"
   ],
   "outputs": [
    {
     "output_type": "stream",
     "name": "stdout",
     "text": [
      "a is greater than b\n"
     ]
    }
   ],
   "metadata": {}
  },
  {
   "cell_type": "markdown",
   "source": [
    "## Shorthand IF-ELSE statement"
   ],
   "metadata": {}
  },
  {
   "cell_type": "code",
   "execution_count": 8,
   "source": [
    "a = 30\n",
    "b =345\n",
    "print (\"A\") if a > b else print(\"B\")"
   ],
   "outputs": [
    {
     "output_type": "stream",
     "name": "stdout",
     "text": [
      "B\n"
     ]
    }
   ],
   "metadata": {}
  },
  {
   "cell_type": "code",
   "execution_count": null,
   "source": [],
   "outputs": [],
   "metadata": {}
  }
 ],
 "metadata": {
  "orig_nbformat": 4,
  "language_info": {
   "name": "python",
   "version": "3.9.6",
   "mimetype": "text/x-python",
   "codemirror_mode": {
    "name": "ipython",
    "version": 3
   },
   "pygments_lexer": "ipython3",
   "nbconvert_exporter": "python",
   "file_extension": ".py"
  },
  "kernelspec": {
   "name": "python3",
   "display_name": "Python 3.9.6 64-bit"
  },
  "interpreter": {
   "hash": "31f2aee4e71d21fbe5cf8b01ff0e069b9275f58929596ceb00d14d90e3e16cd6"
  }
 },
 "nbformat": 4,
 "nbformat_minor": 2
}